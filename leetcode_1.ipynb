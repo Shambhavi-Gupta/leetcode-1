{
  "nbformat": 4,
  "nbformat_minor": 0,
  "metadata": {
    "colab": {
      "provenance": [],
      "authorship_tag": "ABX9TyMdDdK/OpnvK2wqpkTMHz4Q",
      "include_colab_link": true
    },
    "kernelspec": {
      "name": "python3",
      "display_name": "Python 3"
    },
    "language_info": {
      "name": "python"
    }
  },
  "cells": [
    {
      "cell_type": "markdown",
      "metadata": {
        "id": "view-in-github",
        "colab_type": "text"
      },
      "source": [
        "<a href=\"https://colab.research.google.com/github/Shambhavi-Gupta/leetcode-1/blob/main/leetcode_1.ipynb\" target=\"_parent\"><img src=\"https://colab.research.google.com/assets/colab-badge.svg\" alt=\"Open In Colab\"/></a>"
      ]
    },
    {
      "cell_type": "markdown",
      "source": [
        "Roman numerals are represented by seven different symbols: I, V, X, L, C, D and M.\n",
        "\n",
        "Symbol       Value\n",
        "I             1\n",
        "V             5\n",
        "X             10\n",
        "L             50\n",
        "C             100\n",
        "D             500\n",
        "M             1000\n",
        "For example, 2 is written as II in Roman numeral, just two ones added together. 12 is written as XII, which is simply X + II. The number 27 is written as XXVII, which is XX + V + II.\n",
        "\n",
        "Roman numerals are usually written largest to smallest from left to right. However, the numeral for four is not IIII. Instead, the number four is written as IV. Because the one is before the five we subtract it making four. The same principle applies to the number nine, which is written as IX. There are six instances where subtraction is used:\n",
        "\n",
        "I can be placed before V (5) and X (10) to make 4 and 9.\n",
        "X can be placed before L (50) and C (100) to make 40 and 90.\n",
        "C can be placed before D (500) and M (1000) to make 400 and 900.\n",
        "Given a roman numeral, convert it to an integer.\n",
        "\n",
        "\n",
        "\n",
        "Example 1:\n",
        "\n",
        "Input: s = \"III\"\n",
        "Output: 3\n",
        "Explanation: III = 3.\n",
        "Example 2:\n",
        "\n",
        "Input: s = \"LVIII\"\n",
        "Output: 58\n",
        "Explanation: L = 50, V= 5, III = 3.\n",
        "Example 3:\n",
        "\n",
        "Input: s = \"MCMXCIV\"\n",
        "Output: 1994\n",
        "Explanation: M = 1000, CM = 900, XC = 90 and IV = 4.\n",
        "\n",
        "\n",
        "Constraints:\n",
        "\n",
        "1 <= s.length <= 15\n",
        "s contains only the characters ('I', 'V', 'X', 'L', 'C', 'D', 'M').\n",
        "It is guaranteed that s is a valid roman numeral in the range [1, 3999]."
      ],
      "metadata": {
        "id": "6PQDzF1S45UK"
      }
    },
    {
      "cell_type": "code",
      "execution_count": null,
      "metadata": {
        "id": "aKXXadty1I3Y"
      },
      "outputs": [],
      "source": [
        "class Solution(object):\n",
        "    def romanToInt(self, s):\n",
        "        roman = {\n",
        "            \"I\": 1,\n",
        "            \"V\": 5,\n",
        "            \"X\": 10,\n",
        "            \"L\": 50,\n",
        "            \"C\": 100,\n",
        "            \"D\": 500,\n",
        "            \"M\": 1000\n",
        "        }\n",
        "        total = 0\n",
        "        for i in range(len(s) - 1):\n",
        "            if roman[s[i]] < roman[s[i+1]]:\n",
        "                total -= roman[s[i]]\n",
        "            else:\n",
        "                total += roman[s[i]]\n",
        "        return total + roman[s[-1]]"
      ]
    },
    {
      "cell_type": "markdown",
      "source": [
        "Given an input string s and a pattern p, implement regular expression matching with support for '.' and '*' where:\n",
        "\n",
        "'.' Matches any single character.​​​​\n",
        "'*' Matches zero or more of the preceding element.\n",
        "The matching should cover the entire input string (not partial).\n",
        "\n",
        "\n",
        "\n",
        "Example 1:\n",
        "\n",
        "Input: s = \"aa\", p = \"a\"\n",
        "Output: false\n",
        "Explanation: \"a\" does not match the entire string \"aa\".\n",
        "Example 2:\n",
        "\n",
        "Input: s = \"aa\", p = \"a*\"\n",
        "Output: true\n",
        "Explanation: '*' means zero or more of the preceding element, 'a'. Therefore, by repeating 'a' once, it becomes \"aa\".\n",
        "Example 3:\n",
        "\n",
        "Input: s = \"ab\", p = \".*\"\n",
        "Output: true\n",
        "Explanation: \".*\" means \"zero or more (*) of any character (.)\".\n",
        "\n",
        "\n",
        "Constraints:\n",
        "\n",
        "1 <= s.length <= 20\n",
        "1 <= p.length <= 20\n",
        "s contains only lowercase English letters.\n",
        "p contains only lowercase English letters, '.', and '*'.\n",
        "It is guaranteed for each appearance of the character '*', there will be a previous valid character to match."
      ],
      "metadata": {
        "id": "Tc-bRIGAAlcv"
      }
    },
    {
      "cell_type": "code",
      "source": [
        "class Solution:\n",
        "    def isMatch(self, s: str, p: str) -> bool:\n",
        "        # TOP-Down Memoization\n",
        "\n",
        "        cache = {}\n",
        "\n",
        "        def dfs(i, j):\n",
        "            if (i, j) in cache:\n",
        "                return cache[(i, j)]\n",
        "            if i >= len(s) and j >= len(p):\n",
        "                return True\n",
        "            if j >= len(p):\n",
        "                return False\n",
        "\n",
        "            match = i < len(s) and (s[i] == p[j] or p[j] == \".\")\n",
        "            if (j + 1) < len(p) and p[j + 1] == \"*\": #the first char in pattern string is never going to be '*\n",
        "                        # don't use \"*\"\n",
        "                cache[(i, j)] = (dfs(i, j + 2)) or (match and dfs(i + 1, j))\n",
        "                                             # use \"*\", and we can only use \"*\" if there is match\n",
        "                return cache[(i, j)]\n",
        "            if match:\n",
        "                cache[(i, j)] = dfs(i + 1, j + 1)\n",
        "                return cache[(i, j)]\n",
        "\n",
        "            cache[(i, j)] = False\n",
        "            return False\n",
        "\n",
        "        return dfs(0, 0)"
      ],
      "metadata": {
        "id": "AhgVjYyoAlLR"
      },
      "execution_count": null,
      "outputs": []
    },
    {
      "cell_type": "markdown",
      "source": [
        "You are given the heads of two sorted linked lists list1 and list2.\n",
        "\n",
        "Merge the two lists into one sorted list. The list should be made by splicing together the nodes of the first two lists.\n",
        "\n",
        "Return the head of the merged linked list.\n",
        "\n",
        "\n",
        "\n",
        "Example 1:\n",
        "\n",
        "\n",
        "Input: list1 = [1,2,4], list2 = [1,3,4]\n",
        "Output: [1,1,2,3,4,4]\n",
        "Example 2:\n",
        "\n",
        "Input: list1 = [], list2 = []\n",
        "Output: []\n",
        "Example 3:\n",
        "\n",
        "Input: list1 = [], list2 = [0]\n",
        "Output: [0]\n",
        "\n",
        "\n",
        "Constraints:\n",
        "\n",
        "The number of nodes in both lists is in the range [0, 50].\n",
        "-100 <= Node.val <= 100\n",
        "Both list1 and list2 are sorted in non-decreasing order."
      ],
      "metadata": {
        "id": "HCvCXKOsCH5L"
      }
    },
    {
      "cell_type": "code",
      "source": [
        "# Definition for singly-linked list.\n",
        "# class ListNode:\n",
        "#     def __init__(self, val=0, next=None):\n",
        "#         self.val = val\n",
        "#         self.next = next\n",
        "class Solution:\n",
        "    def mergeTwoLists(self, list1: Optional[ListNode], list2: Optional[ListNode]) -> Optional[ListNode]:\n",
        "        # suppose first linked list is empty, directly return the second linked list\n",
        "        if list1 == None:\n",
        "            return list2\n",
        "        # suppose second linked list is empty, directly return the first linked list\n",
        "        if list2 == None:\n",
        "            return list1\n",
        "        # if both lists are empty, return\n",
        "        if list1 == None and list2 == None:\n",
        "            return\n",
        "\n",
        "        temp1 = list1\n",
        "        temp2 = list2\n",
        "        while temp1.next != None:\n",
        "            temp1 = temp1.next\n",
        "\n",
        "        temp1.next = temp2\n",
        "\n",
        "        tempList = []\n",
        "        pointer = list1\n",
        "\n",
        "        while pointer:\n",
        "            tempList.append(pointer.val)\n",
        "            pointer = pointer.next\n",
        "\n",
        "        tempList.sort()\n",
        "        i = 0\n",
        "        pointer = list1\n",
        "        while pointer:\n",
        "            pointer.val = tempList[i]\n",
        "            i = i + 1\n",
        "            pointer = pointer.next\n",
        "\n",
        "        return list1\n"
      ],
      "metadata": {
        "id": "WGy_9vLbCINg"
      },
      "execution_count": null,
      "outputs": []
    },
    {
      "cell_type": "markdown",
      "source": [
        "Given two strings needle and haystack, return the index of the first occurrence of needle in haystack, or -1 if needle is not part of haystack.\n",
        "\n",
        "\n",
        "\n",
        "Example 1:\n",
        "\n",
        "Input: haystack = \"sadbutsad\", needle = \"sad\"\n",
        "Output: 0\n",
        "Explanation: \"sad\" occurs at index 0 and 6.\n",
        "The first occurrence is at index 0, so we return 0.\n",
        "Example 2:\n",
        "\n",
        "Input: haystack = \"leetcode\", needle = \"leeto\"\n",
        "Output: -1\n",
        "Explanation: \"leeto\" did not occur in \"leetcode\", so we return -1.\n",
        "\n",
        "\n",
        "Constraints:\n",
        "\n",
        "1 <= haystack.length, needle.length <= 104\n",
        "haystack and needle consist of only lowercase English characters."
      ],
      "metadata": {
        "id": "Grb5hR7YCsfi"
      }
    },
    {
      "cell_type": "code",
      "source": [
        "class Solution {\n",
        "public:\n",
        "    bool isMatch(string s, string p) {\n",
        "        int n = s.length(), m = p.length();\n",
        "        bool dp[n+1][m+1];\n",
        "        memset(dp, false, sizeof(dp));\n",
        "        dp[0][0] = true;\n",
        "\n",
        "        for(int i=0; i<=n; i++){\n",
        "            for(int j=1; j<=m; j++){\n",
        "                if(p[j-1] == '*'){\n",
        "                    dp[i][j] = dp[i][j-2] || (i > 0 && (s[i-1] == p[j-2] || p[j-2] == '.') && dp[i-1][j]);\n",
        "                }\n",
        "                else{\n",
        "                    dp[i][j] = i > 0 && dp[i-1][j-1] && (s[i-1] == p[j-1] || p[j-1] == '.');\n",
        "                }\n",
        "            }\n",
        "        }\n",
        "\n",
        "        return dp[n][m];\n",
        "    }\n",
        "};"
      ],
      "metadata": {
        "id": "ha_2qN6GCsxl"
      },
      "execution_count": null,
      "outputs": []
    },
    {
      "cell_type": "markdown",
      "source": [
        "Given n pairs of parentheses, write a function to generate all combinations of well-formed parentheses.\n",
        "\n",
        "\n",
        "\n",
        "Example 1:\n",
        "\n",
        "Input: n = 3\n",
        "Output: [\"((()))\",\"(()())\",\"(())()\",\"()(())\",\"()()()\"]\n",
        "Example 2:\n",
        "\n",
        "Input: n = 1\n",
        "Output: [\"()\"]"
      ],
      "metadata": {
        "id": "QPDCC7U_EhDN"
      }
    },
    {
      "cell_type": "code",
      "source": [
        "class Solution:\n",
        "    def generateParenthesis(self, n: int) -> List[str]:\n",
        "        def generateCombinations(n, current, rem_closing):\n",
        "            if n == 0:\n",
        "                while rem_closing:\n",
        "                    current += ')'\n",
        "                    rem_closing -= 1\n",
        "                return [current]\n",
        "            else:\n",
        "                if rem_closing:\n",
        "                    return generateCombinations(n-1, current+'(', rem_closing+1) + generateCombinations(n, current+')', rem_closing-1)\n",
        "                else:\n",
        "                    return generateCombinations(n-1, current+'(', rem_closing+1)\n",
        "        return generateCombinations(n, '', 0)"
      ],
      "metadata": {
        "id": "Xurvj1xXEhT7"
      },
      "execution_count": null,
      "outputs": []
    }
  ]
}